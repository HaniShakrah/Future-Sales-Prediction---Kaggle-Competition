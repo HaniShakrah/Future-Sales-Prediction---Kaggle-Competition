{
 "cells": [
  {
   "cell_type": "markdown",
   "id": "93161525",
   "metadata": {},
   "source": [
    "# Final Project: Predict Future Sales"
   ]
  },
  {
   "cell_type": "code",
   "execution_count": 129,
   "id": "106499db",
   "metadata": {
    "scrolled": true
   },
   "outputs": [],
   "source": [
    "library(dplyr)\n",
    "library(ggplot2)\n",
    "library(scales)\n",
    "library(forecast)\n",
    "library(lubridate)\n",
    "library(boot)"
   ]
  },
  {
   "cell_type": "code",
   "execution_count": 130,
   "id": "b3cb0e82",
   "metadata": {},
   "outputs": [],
   "source": [
    "item_categories = read.csv(\"C:/Users/hanis/OneDrive/2023 NJIT SUMMER SEMESTER/Data Analytics R/Final Project/item_categories.csv\")\n",
    "items = read.csv(\"C:/Users/hanis/OneDrive/2023 NJIT SUMMER SEMESTER/Data Analytics R/Final Project/items.csv\")\n",
    "sales_train = read.csv(\"C:/Users/hanis/OneDrive/2023 NJIT SUMMER SEMESTER/Data Analytics R/Final Project/sales_train.csv\")\n",
    "sample_submission = read.csv(\"C:/Users/hanis/OneDrive/2023 NJIT SUMMER SEMESTER/Data Analytics R/Final Project/sample_submission.csv\")\n",
    "shops = read.csv(\"C:/Users/hanis/OneDrive/2023 NJIT SUMMER SEMESTER/Data Analytics R/Final Project/shops.csv\")\n",
    "test = read.csv(\"C:/Users/hanis/OneDrive/2023 NJIT SUMMER SEMESTER/Data Analytics R/Final Project/test.csv\")"
   ]
  },
  {
   "cell_type": "code",
   "execution_count": 131,
   "id": "76f99f8c",
   "metadata": {},
   "outputs": [
    {
     "data": {
      "text/html": [
       "<table class=\"dataframe\">\n",
       "<caption>A data.frame: 6 × 6</caption>\n",
       "<thead>\n",
       "\t<tr><th></th><th scope=col>date</th><th scope=col>date_block_num</th><th scope=col>shop_id</th><th scope=col>item_id</th><th scope=col>item_price</th><th scope=col>item_cnt_day</th></tr>\n",
       "\t<tr><th></th><th scope=col>&lt;chr&gt;</th><th scope=col>&lt;int&gt;</th><th scope=col>&lt;int&gt;</th><th scope=col>&lt;int&gt;</th><th scope=col>&lt;dbl&gt;</th><th scope=col>&lt;dbl&gt;</th></tr>\n",
       "</thead>\n",
       "<tbody>\n",
       "\t<tr><th scope=row>1</th><td>02.01.2013</td><td>0</td><td>59</td><td>22154</td><td> 999.00</td><td> 1</td></tr>\n",
       "\t<tr><th scope=row>2</th><td>03.01.2013</td><td>0</td><td>25</td><td> 2552</td><td> 899.00</td><td> 1</td></tr>\n",
       "\t<tr><th scope=row>3</th><td>05.01.2013</td><td>0</td><td>25</td><td> 2552</td><td> 899.00</td><td>-1</td></tr>\n",
       "\t<tr><th scope=row>4</th><td>06.01.2013</td><td>0</td><td>25</td><td> 2554</td><td>1709.05</td><td> 1</td></tr>\n",
       "\t<tr><th scope=row>5</th><td>15.01.2013</td><td>0</td><td>25</td><td> 2555</td><td>1099.00</td><td> 1</td></tr>\n",
       "\t<tr><th scope=row>6</th><td>10.01.2013</td><td>0</td><td>25</td><td> 2564</td><td> 349.00</td><td> 1</td></tr>\n",
       "</tbody>\n",
       "</table>\n"
      ],
      "text/latex": [
       "A data.frame: 6 × 6\n",
       "\\begin{tabular}{r|llllll}\n",
       "  & date & date\\_block\\_num & shop\\_id & item\\_id & item\\_price & item\\_cnt\\_day\\\\\n",
       "  & <chr> & <int> & <int> & <int> & <dbl> & <dbl>\\\\\n",
       "\\hline\n",
       "\t1 & 02.01.2013 & 0 & 59 & 22154 &  999.00 &  1\\\\\n",
       "\t2 & 03.01.2013 & 0 & 25 &  2552 &  899.00 &  1\\\\\n",
       "\t3 & 05.01.2013 & 0 & 25 &  2552 &  899.00 & -1\\\\\n",
       "\t4 & 06.01.2013 & 0 & 25 &  2554 & 1709.05 &  1\\\\\n",
       "\t5 & 15.01.2013 & 0 & 25 &  2555 & 1099.00 &  1\\\\\n",
       "\t6 & 10.01.2013 & 0 & 25 &  2564 &  349.00 &  1\\\\\n",
       "\\end{tabular}\n"
      ],
      "text/markdown": [
       "\n",
       "A data.frame: 6 × 6\n",
       "\n",
       "| <!--/--> | date &lt;chr&gt; | date_block_num &lt;int&gt; | shop_id &lt;int&gt; | item_id &lt;int&gt; | item_price &lt;dbl&gt; | item_cnt_day &lt;dbl&gt; |\n",
       "|---|---|---|---|---|---|---|\n",
       "| 1 | 02.01.2013 | 0 | 59 | 22154 |  999.00 |  1 |\n",
       "| 2 | 03.01.2013 | 0 | 25 |  2552 |  899.00 |  1 |\n",
       "| 3 | 05.01.2013 | 0 | 25 |  2552 |  899.00 | -1 |\n",
       "| 4 | 06.01.2013 | 0 | 25 |  2554 | 1709.05 |  1 |\n",
       "| 5 | 15.01.2013 | 0 | 25 |  2555 | 1099.00 |  1 |\n",
       "| 6 | 10.01.2013 | 0 | 25 |  2564 |  349.00 |  1 |\n",
       "\n"
      ],
      "text/plain": [
       "  date       date_block_num shop_id item_id item_price item_cnt_day\n",
       "1 02.01.2013 0              59      22154    999.00     1          \n",
       "2 03.01.2013 0              25       2552    899.00     1          \n",
       "3 05.01.2013 0              25       2552    899.00    -1          \n",
       "4 06.01.2013 0              25       2554   1709.05     1          \n",
       "5 15.01.2013 0              25       2555   1099.00     1          \n",
       "6 10.01.2013 0              25       2564    349.00     1          "
      ]
     },
     "metadata": {},
     "output_type": "display_data"
    },
    {
     "data": {
      "text/html": [
       "2169"
      ],
      "text/latex": [
       "2169"
      ],
      "text/markdown": [
       "2169"
      ],
      "text/plain": [
       "[1] 2169"
      ]
     },
     "metadata": {},
     "output_type": "display_data"
    }
   ],
   "source": [
    "head(sales_train)\n",
    "max(sales_train$item_cnt_day)"
   ]
  },
  {
   "cell_type": "markdown",
   "id": "14c37536",
   "metadata": {},
   "source": [
    "# Exploratory Analysis"
   ]
  },
  {
   "cell_type": "code",
   "execution_count": 132,
   "id": "5953118b",
   "metadata": {},
   "outputs": [
    {
     "data": {
      "text/plain": [
       "  item_name            item_id      item_category_id\n",
       " Length:22170       Min.   :    0   Min.   : 0.00   \n",
       " Class :character   1st Qu.: 5542   1st Qu.:37.00   \n",
       " Mode  :character   Median :11084   Median :40.00   \n",
       "                    Mean   :11084   Mean   :46.29   \n",
       "                    3rd Qu.:16627   3rd Qu.:58.00   \n",
       "                    Max.   :22169   Max.   :83.00   "
      ]
     },
     "metadata": {},
     "output_type": "display_data"
    }
   ],
   "source": [
    "summary(items)"
   ]
  },
  {
   "cell_type": "code",
   "execution_count": 133,
   "id": "606347c0",
   "metadata": {},
   "outputs": [
    {
     "data": {
      "text/plain": [
       "     date           date_block_num     shop_id      item_id     \n",
       " Length:2935849     Min.   : 0.00   Min.   : 0   Min.   :    0  \n",
       " Class :character   1st Qu.: 7.00   1st Qu.:22   1st Qu.: 4476  \n",
       " Mode  :character   Median :14.00   Median :31   Median : 9343  \n",
       "                    Mean   :14.57   Mean   :33   Mean   :10197  \n",
       "                    3rd Qu.:23.00   3rd Qu.:47   3rd Qu.:15684  \n",
       "                    Max.   :33.00   Max.   :59   Max.   :22169  \n",
       "   item_price        item_cnt_day     \n",
       " Min.   :    -1.0   Min.   : -22.000  \n",
       " 1st Qu.:   249.0   1st Qu.:   1.000  \n",
       " Median :   399.0   Median :   1.000  \n",
       " Mean   :   890.9   Mean   :   1.243  \n",
       " 3rd Qu.:   999.0   3rd Qu.:   1.000  \n",
       " Max.   :307980.0   Max.   :2169.000  "
      ]
     },
     "metadata": {},
     "output_type": "display_data"
    }
   ],
   "source": [
    "summary(sales_train)  \n",
    "#negative values for price and item_cnt_day... need to clean"
   ]
  },
  {
   "cell_type": "code",
   "execution_count": 134,
   "id": "a2efab72",
   "metadata": {
    "scrolled": true
   },
   "outputs": [
    {
     "data": {
      "text/html": [
       "<table class=\"dataframe\">\n",
       "<caption>A data.frame: 1 × 6</caption>\n",
       "<thead>\n",
       "\t<tr><th></th><th scope=col>date</th><th scope=col>date_block_num</th><th scope=col>shop_id</th><th scope=col>item_id</th><th scope=col>item_price</th><th scope=col>item_cnt_day</th></tr>\n",
       "\t<tr><th></th><th scope=col>&lt;chr&gt;</th><th scope=col>&lt;int&gt;</th><th scope=col>&lt;int&gt;</th><th scope=col>&lt;int&gt;</th><th scope=col>&lt;dbl&gt;</th><th scope=col>&lt;dbl&gt;</th></tr>\n",
       "</thead>\n",
       "<tbody>\n",
       "\t<tr><th scope=row>484684</th><td>15.05.2013</td><td>4</td><td>32</td><td>2973</td><td>-1</td><td>1</td></tr>\n",
       "</tbody>\n",
       "</table>\n"
      ],
      "text/latex": [
       "A data.frame: 1 × 6\n",
       "\\begin{tabular}{r|llllll}\n",
       "  & date & date\\_block\\_num & shop\\_id & item\\_id & item\\_price & item\\_cnt\\_day\\\\\n",
       "  & <chr> & <int> & <int> & <int> & <dbl> & <dbl>\\\\\n",
       "\\hline\n",
       "\t484684 & 15.05.2013 & 4 & 32 & 2973 & -1 & 1\\\\\n",
       "\\end{tabular}\n"
      ],
      "text/markdown": [
       "\n",
       "A data.frame: 1 × 6\n",
       "\n",
       "| <!--/--> | date &lt;chr&gt; | date_block_num &lt;int&gt; | shop_id &lt;int&gt; | item_id &lt;int&gt; | item_price &lt;dbl&gt; | item_cnt_day &lt;dbl&gt; |\n",
       "|---|---|---|---|---|---|---|\n",
       "| 484684 | 15.05.2013 | 4 | 32 | 2973 | -1 | 1 |\n",
       "\n"
      ],
      "text/plain": [
       "       date       date_block_num shop_id item_id item_price item_cnt_day\n",
       "484684 15.05.2013 4              32      2973    -1         1           "
      ]
     },
     "metadata": {},
     "output_type": "display_data"
    }
   ],
   "source": [
    "sales_train[sales_train$item_price <0,]    #1 record \n",
    "#sales_train[sales_train$item_cnt_day <0,]  #7k records \n",
    "#clean\n",
    "sales_train = sales_train[sales_train$item_price>=0,]     \n",
    "sales_train = sales_train[sales_train$item_cnt_day >=0,]"
   ]
  },
  {
   "cell_type": "markdown",
   "id": "8f9dc4e2",
   "metadata": {},
   "source": [
    "### Count of Items by Category Plot"
   ]
  },
  {
   "cell_type": "code",
   "execution_count": 135,
   "id": "ab64f629",
   "metadata": {},
   "outputs": [
    {
     "data": {
      "image/png": "[encoded data removed]",
      "text/plain": [
       "plot without title"
      ]
     },
     "metadata": {
      "image/png": {
       "height": 420,
       "width": 420
      }
     },
     "output_type": "display_data"
    }
   ],
   "source": [
    "items_grouped = items %>% group_by(item_category_id) %>% summarize(count = n())\n",
    "ggplot(items_grouped, aes(x = item_category_id, y = count)) +\n",
    "  geom_bar(stat = \"identity\",  fill = \"steelblue\") +\n",
    "  labs(x = \"Item Category\", y = \"Count\", title = \"Count of Items by Category\")"
   ]
  },
  {
   "cell_type": "markdown",
   "id": "b3c30e63",
   "metadata": {},
   "source": [
    "### Items Sold by Month Plot"
   ]
  },
  {
   "cell_type": "code",
   "execution_count": 136,
   "id": "22ae328a",
   "metadata": {
    "scrolled": false
   },
   "outputs": [
    {
     "data": {
      "image/png": "[encoded data removed]",
      "text/plain": [
       "plot without title"
      ]
     },
     "metadata": {
      "image/png": {
       "height": 420,
       "width": 420
      }
     },
     "output_type": "display_data"
    }
   ],
   "source": [
    "items_bymonth = sales_train %>% group_by(date_block_num) %>% summarize(s = sum(item_cnt_day))\n",
    "\n",
    "ggplot(items_bymonth, aes(x = date_block_num, y = s)) +\n",
    "  geom_point() +\n",
    "  labs(x = \"Month\", y = \"# Sold\", title = \"Total # items sold per month\")"
   ]
  },
  {
   "cell_type": "markdown",
   "id": "ceaa8032",
   "metadata": {},
   "source": [
    "General negative trend in quantity of products sold over time "
   ]
  },
  {
   "cell_type": "markdown",
   "id": "41b80694",
   "metadata": {},
   "source": [
    "### Total Sales by Month"
   ]
  },
  {
   "cell_type": "code",
   "execution_count": 137,
   "id": "fa589ee3",
   "metadata": {},
   "outputs": [
    {
     "data": {
      "image/png": "[encoded data removed]",
      "text/plain": [
       "plot without title"
      ]
     },
     "metadata": {
      "image/png": {
       "height": 420,
       "width": 420
      }
     },
     "output_type": "display_data"
    }
   ],
   "source": [
    "sales_train = mutate(sales_train, sales = item_price*item_cnt_day)\n",
    "sales_by_month = sales_train %>% group_by(date_block_num) %>% summarize(s = sum(sales))\n",
    "colnames(sales_by_month)[1] = \"month\"\n",
    "\n",
    "ggplot(sales_by_month, aes(x = month, y = s)) +\n",
    "  geom_bar(stat = \"identity\",  fill = \"steelblue\") +\n",
    "  labs(x = \"Month\", y = \"Total Sales\", title = \"Total sales per month\")+\n",
    "  scale_y_continuous(labels = comma)"
   ]
  },
  {
   "cell_type": "markdown",
   "id": "94ef5312",
   "metadata": {},
   "source": [
    "Despite few months with really really high sales, has mostly hovered around  ~$100k"
   ]
  },
  {
   "cell_type": "markdown",
   "id": "25842747",
   "metadata": {},
   "source": [
    "## Cleaning and Model Building"
   ]
  },
  {
   "cell_type": "code",
   "execution_count": 138,
   "id": "c8ac20b0",
   "metadata": {},
   "outputs": [],
   "source": [
    "#need IDs in training dataframe... pull from test dataframe\n",
    "sales_train = left_join(sales_train, test, by = c(\"shop_id\",\"item_id\"))\n",
    "#some IDs are not in the test set for prediction...discard these in training set \n",
    "sales_train = sales_train %>%filter(!is.na(ID))\n",
    "#create month column \"month_x\" so Jan 2013 is 1 and Jan 2014 = 13, for example\n",
    "sales_train$date = dmy(sales_train$date)\n",
    "sales_train$month = month(sales_train$date)\n",
    "sales_train$year = year(sales_train$date)\n",
    "sales_train$month_x =  12 * (sales_train$year - 2013) + sales_train$month"
   ]
  },
  {
   "cell_type": "code",
   "execution_count": 139,
   "id": "1fef4c03",
   "metadata": {},
   "outputs": [],
   "source": [
    "grouped_counts <- sales_train %>%\n",
    "  group_by(ID) %>%\n",
    "  summarise(row_count = n()) \n",
    "grouped_counts = grouped_counts[grouped_counts$row_count>1,]\n",
    "\n",
    "all_ids = unique(grouped_counts$ID)\n",
    "all_ids = sort(all_ids)\n",
    "\n",
    "predictions = c()\n",
    "deltas=c()"
   ]
  },
  {
   "cell_type": "code",
   "execution_count": null,
   "id": "7abd316b",
   "metadata": {},
   "outputs": [],
   "source": [
    "for (i in all_ids){\n",
    "  #filter so only training examples of i ID\n",
    "  df = sales_train[sales_train$ID == i,]\n",
    "  \n",
    "  #create lm model for i ID\n",
    "  model = glm(item_cnt_day~month_x, data=df)\n",
    "  cv_results = cv.glm(data = df, glmfit = model)\n",
    "  d = cv_results$delta\n",
    "  deltas = c(deltas,d)\n",
    "  \n",
    "  #predict for next month\n",
    "  newdata = data.frame(month_x = 35)\n",
    "  newp = predict(model,newdata)\n",
    "  #store in vector\n",
    "  predictions = c(predictions, newp)\n",
    "}"
   ]
  },
  {
   "cell_type": "code",
   "execution_count": 140,
   "id": "01b4d25c",
   "metadata": {},
   "outputs": [],
   "source": [
    "#reading in outputs of above loop... Jupyter notebooks was taking extremely long to run, and I had already completed this in R studio\n",
    "predictions = readRDS(\"predictions.rds\")\n",
    "deltas = readRDS(\"deltas.rds\")"
   ]
  },
  {
   "cell_type": "code",
   "execution_count": 141,
   "id": "c1994834",
   "metadata": {
    "scrolled": true
   },
   "outputs": [],
   "source": [
    "#clean final prediction\n",
    "pred = data.frame(ID = all_ids, item_cnt_month=predictions)\n",
    "pred$item_cnt_month = format(pred$item_cnt_month, scientific = FALSE)\n",
    "final_df = left_join(sample_submission,pred,by=\"ID\")\n",
    "final_df$item_cnt_month.x=NULL\n",
    "names(final_df)[2]= \"item_cnt_month\"\n",
    "final_df$item_cnt_month = as.integer(final_df$item_cnt_month)\n",
    "final_df$item_cnt_month = ifelse(is.na(final_df$item_cnt_month)|final_df$item_cnt_month < 0, 0, final_df$item_cnt_month)"
   ]
  },
  {
   "cell_type": "code",
   "execution_count": 142,
   "id": "79156ded",
   "metadata": {},
   "outputs": [
    {
     "data": {
      "text/html": [
       "<table class=\"dataframe\">\n",
       "<caption>A data.frame: 10 × 2</caption>\n",
       "<thead>\n",
       "\t<tr><th></th><th scope=col>ID</th><th scope=col>item_cnt_month</th></tr>\n",
       "\t<tr><th></th><th scope=col>&lt;int&gt;</th><th scope=col>&lt;dbl&gt;</th></tr>\n",
       "</thead>\n",
       "<tbody>\n",
       "\t<tr><th scope=row>1</th><td>0</td><td>1</td></tr>\n",
       "\t<tr><th scope=row>2</th><td>1</td><td>0</td></tr>\n",
       "\t<tr><th scope=row>3</th><td>2</td><td>0</td></tr>\n",
       "\t<tr><th scope=row>4</th><td>3</td><td>0</td></tr>\n",
       "\t<tr><th scope=row>5</th><td>4</td><td>0</td></tr>\n",
       "\t<tr><th scope=row>6</th><td>5</td><td>1</td></tr>\n",
       "\t<tr><th scope=row>7</th><td>6</td><td>0</td></tr>\n",
       "\t<tr><th scope=row>8</th><td>7</td><td>0</td></tr>\n",
       "\t<tr><th scope=row>9</th><td>8</td><td>0</td></tr>\n",
       "\t<tr><th scope=row>10</th><td>9</td><td>0</td></tr>\n",
       "</tbody>\n",
       "</table>\n"
      ],
      "text/latex": [
       "A data.frame: 10 × 2\n",
       "\\begin{tabular}{r|ll}\n",
       "  & ID & item\\_cnt\\_month\\\\\n",
       "  & <int> & <dbl>\\\\\n",
       "\\hline\n",
       "\t1 & 0 & 1\\\\\n",
       "\t2 & 1 & 0\\\\\n",
       "\t3 & 2 & 0\\\\\n",
       "\t4 & 3 & 0\\\\\n",
       "\t5 & 4 & 0\\\\\n",
       "\t6 & 5 & 1\\\\\n",
       "\t7 & 6 & 0\\\\\n",
       "\t8 & 7 & 0\\\\\n",
       "\t9 & 8 & 0\\\\\n",
       "\t10 & 9 & 0\\\\\n",
       "\\end{tabular}\n"
      ],
      "text/markdown": [
       "\n",
       "A data.frame: 10 × 2\n",
       "\n",
       "| <!--/--> | ID &lt;int&gt; | item_cnt_month &lt;dbl&gt; |\n",
       "|---|---|---|\n",
       "| 1 | 0 | 1 |\n",
       "| 2 | 1 | 0 |\n",
       "| 3 | 2 | 0 |\n",
       "| 4 | 3 | 0 |\n",
       "| 5 | 4 | 0 |\n",
       "| 6 | 5 | 1 |\n",
       "| 7 | 6 | 0 |\n",
       "| 8 | 7 | 0 |\n",
       "| 9 | 8 | 0 |\n",
       "| 10 | 9 | 0 |\n",
       "\n"
      ],
      "text/plain": [
       "   ID item_cnt_month\n",
       "1  0  1             \n",
       "2  1  0             \n",
       "3  2  0             \n",
       "4  3  0             \n",
       "5  4  0             \n",
       "6  5  1             \n",
       "7  6  0             \n",
       "8  7  0             \n",
       "9  8  0             \n",
       "10 9  0             "
      ]
     },
     "metadata": {},
     "output_type": "display_data"
    }
   ],
   "source": [
    "#final prediction dataframe\n",
    "head(final_df,10)"
   ]
  },
  {
   "cell_type": "code",
   "execution_count": 143,
   "id": "59321d7e",
   "metadata": {},
   "outputs": [],
   "source": [
    "#There are 2 assumptions made\n",
    "#1. Not all test set IDs have historical data in the training set (new item/shop combination)\n",
    "#I updated any NAs to be 0 -- these unique shop/item combinations(IDs) never had any past sales... expect them to continue not having any \n",
    "#2. The model predicts negative sales for some variables \n",
    "#I updated any negative values to be 0, or no sales are predicted at all\n",
    "#Overall, I believe this is an average prediction...Using previous monthly trends to help predict the next month for each individual ID makes sense and should yield decent performance\n",
    "#Performance metrics discussed later when comparing this to the improved model\n",
    "#However, as discussed earlier, this does not take into consideration any new ID"
   ]
  },
  {
   "cell_type": "code",
   "execution_count": 144,
   "id": "eadb32bc",
   "metadata": {},
   "outputs": [],
   "source": [
    "#To further improve the model, I will focus on feature selection. Currently, I am only using time as a feature. \n",
    "#I will add current price to the model. Since big ticket items are typically purchased with less frequency, this makes sense to include in the updated model.\n",
    "#This will now be a multiple linear regression implementation. "
   ]
  },
  {
   "cell_type": "code",
   "execution_count": 145,
   "id": "d532261e",
   "metadata": {},
   "outputs": [],
   "source": [
    "grouped_counts2 <- sales_train %>%\n",
    "  group_by(ID) %>%\n",
    "  summarise(row_count = n()) \n",
    "grouped_counts2 = grouped_counts2[grouped_counts2$row_count>3,]\n"
   ]
  },
  {
   "cell_type": "code",
   "execution_count": 146,
   "id": "3ae457af",
   "metadata": {},
   "outputs": [],
   "source": [
    "all_ids2 = unique(grouped_counts2$ID)\n",
    "all_ids2 = sort(all_ids2)\n",
    "\n",
    "l = sales_train[sales_train$ID %in% all_ids2,]\n",
    "l = l %>% group_by(ID) %>% summarize(unique_months = n_distinct(month_x)) \n",
    "l = l[l$unique_months>3,]\n",
    "all_ids2.2 = l$ID\n",
    "\n",
    "ids2 = all_ids2.2[all_ids2.2 %in% all_ids2]\n",
    "\n",
    "predictions2 = c()\n",
    "deltas2=c()"
   ]
  },
  {
   "cell_type": "code",
   "execution_count": null,
   "id": "eeac38a5",
   "metadata": {},
   "outputs": [],
   "source": [
    "for (i in ids2){\n",
    "  #filter so only training examples of i ID\n",
    "  df = sales_train[sales_train$ID == i,]\n",
    "  \n",
    "  #aggregate month sales for i ID\n",
    "  y = group_by(df, month_x) %>% summarize(sum(item_cnt_day))\n",
    "  colnames(y)[2] =\"sales_count\"\n",
    "  df2 = left_join(y,df,by=\"month_x\")\n",
    "  df2 = df2[c(\"month_x\",\"sales_count\", \"item_price\")]\n",
    "  \n",
    "  #some months have multiple prices (changed during month), so take average price \n",
    "  g = df2 %>% group_by(month_x) %>% summarize(mean(item_price))\n",
    "  df2 = df2 %>% distinct(month_x, .keep_all = TRUE)\n",
    "  df_final2 = merge(g,df2, by=\"month_x\",all.x=TRUE)   \n",
    "  colnames(df_final2)[2] =\"price\"\n",
    "  \n",
    "  #create lm model for i ID\n",
    "  model = glm(sales_count~month_x+price, data=df_final2)\n",
    "  cv_results = cv.glm(data = df_final2, glmfit = model)\n",
    "  d = cv_results$delta\n",
    "  deltas2 = c(deltas2,d)\n",
    "  \n",
    "  #predict for next month\n",
    "  df = arrange(df,desc(date))\n",
    "  #extract most recent price of ID to use for prediction\n",
    "  df[1,5]\n",
    "  newdata = data.frame(month_x = 35, price =df[1,5])\n",
    "  newp = predict(model,newdata)\n",
    "  predictions2 = c(predictions2, newp)\n",
    "}"
   ]
  },
  {
   "cell_type": "code",
   "execution_count": 147,
   "id": "0a87dccb",
   "metadata": {},
   "outputs": [],
   "source": [
    "#read in again\n",
    "predictions2 = readRDS(\"predictions2.rds\")\n",
    "deltas2 = readRDS(\"deltas2.rds\")"
   ]
  },
  {
   "cell_type": "code",
   "execution_count": 148,
   "id": "dc5c38d3",
   "metadata": {
    "scrolled": true
   },
   "outputs": [],
   "source": [
    "pred2 = data.frame(ID = ids2, item_cnt_month=predictions2)\n",
    "final_df2 = left_join(sample_submission,pred2,by=\"ID\")\n",
    "final_df2$item_cnt_month.x=NULL\n",
    "names(final_df2)[2]= \"item_cnt_month\"\n",
    "final_df2$item_cnt_month = as.integer(final_df2$item_cnt_month)\n",
    "final_df2$item_cnt_month = ifelse(is.na(final_df2$item_cnt_month)|final_df2$item_cnt_month < 0, 0, final_df2$item_cnt_month)\n",
    "#produced 2 deltas for each iteration... second one is adjusted error... we will use this to compare models\n",
    "deltas2 = deltas[seq(2,length(deltas),2)]\n",
    "deltas = deltas2[seq(2,length(deltas2),2)]"
   ]
  },
  {
   "cell_type": "code",
   "execution_count": 149,
   "id": "b2a76e69",
   "metadata": {},
   "outputs": [
    {
     "data": {
      "text/html": [
       "<table class=\"dataframe\">\n",
       "<caption>A data.frame: 10 × 2</caption>\n",
       "<thead>\n",
       "\t<tr><th></th><th scope=col>ID</th><th scope=col>item_cnt_month</th></tr>\n",
       "\t<tr><th></th><th scope=col>&lt;int&gt;</th><th scope=col>&lt;dbl&gt;</th></tr>\n",
       "</thead>\n",
       "<tbody>\n",
       "\t<tr><th scope=row>1</th><td>0</td><td>1</td></tr>\n",
       "\t<tr><th scope=row>2</th><td>1</td><td>0</td></tr>\n",
       "\t<tr><th scope=row>3</th><td>2</td><td>1</td></tr>\n",
       "\t<tr><th scope=row>4</th><td>3</td><td>0</td></tr>\n",
       "\t<tr><th scope=row>5</th><td>4</td><td>0</td></tr>\n",
       "\t<tr><th scope=row>6</th><td>5</td><td>0</td></tr>\n",
       "\t<tr><th scope=row>7</th><td>6</td><td>0</td></tr>\n",
       "\t<tr><th scope=row>8</th><td>7</td><td>3</td></tr>\n",
       "\t<tr><th scope=row>9</th><td>8</td><td>0</td></tr>\n",
       "\t<tr><th scope=row>10</th><td>9</td><td>0</td></tr>\n",
       "</tbody>\n",
       "</table>\n"
      ],
      "text/latex": [
       "A data.frame: 10 × 2\n",
       "\\begin{tabular}{r|ll}\n",
       "  & ID & item\\_cnt\\_month\\\\\n",
       "  & <int> & <dbl>\\\\\n",
       "\\hline\n",
       "\t1 & 0 & 1\\\\\n",
       "\t2 & 1 & 0\\\\\n",
       "\t3 & 2 & 1\\\\\n",
       "\t4 & 3 & 0\\\\\n",
       "\t5 & 4 & 0\\\\\n",
       "\t6 & 5 & 0\\\\\n",
       "\t7 & 6 & 0\\\\\n",
       "\t8 & 7 & 3\\\\\n",
       "\t9 & 8 & 0\\\\\n",
       "\t10 & 9 & 0\\\\\n",
       "\\end{tabular}\n"
      ],
      "text/markdown": [
       "\n",
       "A data.frame: 10 × 2\n",
       "\n",
       "| <!--/--> | ID &lt;int&gt; | item_cnt_month &lt;dbl&gt; |\n",
       "|---|---|---|\n",
       "| 1 | 0 | 1 |\n",
       "| 2 | 1 | 0 |\n",
       "| 3 | 2 | 1 |\n",
       "| 4 | 3 | 0 |\n",
       "| 5 | 4 | 0 |\n",
       "| 6 | 5 | 0 |\n",
       "| 7 | 6 | 0 |\n",
       "| 8 | 7 | 3 |\n",
       "| 9 | 8 | 0 |\n",
       "| 10 | 9 | 0 |\n",
       "\n"
      ],
      "text/plain": [
       "   ID item_cnt_month\n",
       "1  0  1             \n",
       "2  1  0             \n",
       "3  2  1             \n",
       "4  3  0             \n",
       "5  4  0             \n",
       "6  5  0             \n",
       "7  6  0             \n",
       "8  7  3             \n",
       "9  8  0             \n",
       "10 9  0             "
      ]
     },
     "metadata": {},
     "output_type": "display_data"
    }
   ],
   "source": [
    "#final prediction dataframe\n",
    "head(final_df2,10)"
   ]
  },
  {
   "cell_type": "code",
   "execution_count": 150,
   "id": "21efdf22",
   "metadata": {},
   "outputs": [
    {
     "data": {
      "text/html": [
       "130.722316451254"
      ],
      "text/latex": [
       "130.722316451254"
      ],
      "text/markdown": [
       "130.722316451254"
      ],
      "text/plain": [
       "[1] 130.7223"
      ]
     },
     "metadata": {},
     "output_type": "display_data"
    }
   ],
   "source": [
    "mean(deltas)"
   ]
  },
  {
   "cell_type": "code",
   "execution_count": 151,
   "id": "98862459",
   "metadata": {},
   "outputs": [
    {
     "data": {
      "text/html": [
       "65.860437096964"
      ],
      "text/latex": [
       "65.860437096964"
      ],
      "text/markdown": [
       "65.860437096964"
      ],
      "text/plain": [
       "[1] 65.86044"
      ]
     },
     "metadata": {},
     "output_type": "display_data"
    }
   ],
   "source": [
    "mean(deltas2)"
   ]
  },
  {
   "cell_type": "code",
   "execution_count": 152,
   "id": "fc1d7b57",
   "metadata": {},
   "outputs": [],
   "source": [
    "#new model showed improvement in error...the second one would be the one I would recommend/use"
   ]
  },
  {
   "cell_type": "markdown",
   "id": "4e0e2318",
   "metadata": {},
   "source": [
    "## Note: Looking back at the Total Sales by Month bar chart from the exploratory analysis... seems to be some seasonality ......quick check for seasonality below\n"
   ]
  },
  {
   "cell_type": "code",
   "execution_count": 153,
   "id": "2520506a",
   "metadata": {},
   "outputs": [
    {
     "data": {
      "image/png": "[encoded data removed]",
      "text/plain": [
       "Plot with title \"Seasonal plot: ts_sales\""
      ]
     },
     "metadata": {
      "image/png": {
       "height": 420,
       "width": 420
      }
     },
     "output_type": "display_data"
    },
    {
     "data": {
      "image/png": "[encoded data removed]",
      "text/plain": [
       "plot without title"
      ]
     },
     "metadata": {
      "image/png": {
       "height": 420,
       "width": 420
      }
     },
     "output_type": "display_data"
    },
    {
     "data": {
      "image/png": "[encoded data removed]",
      "text/plain": [
       "plot without title"
      ]
     },
     "metadata": {
      "image/png": {
       "height": 420,
       "width": 420
      }
     },
     "output_type": "display_data"
    }
   ],
   "source": [
    "ts_sales = ts(sales_by_month, start = c(2013,1), frequency=12)\n",
    "seasonplot(ts_sales)\n",
    "\n",
    "\n",
    "decomposed = decompose(ts_sales)\n",
    "plot(decomposed)\n",
    "\n",
    "par(mfrow = c(3,1))\n",
    "plot(decomposed$seasonal)\n",
    "plot(decomposed$trend[,2])\n",
    "plot(decomposed$random[,2])"
   ]
  },
  {
   "cell_type": "code",
   "execution_count": 154,
   "id": "8fb2bfbd",
   "metadata": {},
   "outputs": [],
   "source": [
    "#looks like there is definitely seasonality, so would have been best to use a model that is built for seasonal data"
   ]
  }
 ],
 "metadata": {
  "kernelspec": {
   "display_name": "R",
   "language": "R",
   "name": "ir"
  },
  "language_info": {
   "codemirror_mode": "r",
   "file_extension": ".r",
   "mimetype": "text/x-r-source",
   "name": "R",
   "pygments_lexer": "r",
   "version": "4.2.2"
  }
 },
 "nbformat": 4,
 "nbformat_minor": 5
}
